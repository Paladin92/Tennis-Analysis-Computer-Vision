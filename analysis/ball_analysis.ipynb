{
 "cells": [
  {
   "cell_type": "code",
   "execution_count": 4,
   "metadata": {},
   "outputs": [],
   "source": [
    "import pickle\n",
    "import pandas as pd\n",
    "import matplotlib.pyplot as plt"
   ]
  },
  {
   "cell_type": "code",
   "execution_count": 6,
   "metadata": {},
   "outputs": [],
   "source": [
    "# read the pickle file\n",
    "with open('../tracker_stubs/ball_detections.pkl', 'rb') as f:\n",
    "    ball_positions = pickle.load(f)"
   ]
  },
  {
   "cell_type": "code",
   "execution_count": 7,
   "metadata": {},
   "outputs": [],
   "source": [
    "ball_positions = [x.get(1,[]) for x in ball_positions]\n",
    "# convert the list into pandas dataframe\n",
    "df_ball_positions = pd.DataFrame(ball_positions,columns=['x1','y1','x2','y2'])\n",
    "\n",
    "# interpolate the missing values\n",
    "df_ball_positions = df_ball_positions.interpolate()\n",
    "df_ball_positions = df_ball_positions.bfill()"
   ]
  },
  {
   "cell_type": "code",
   "execution_count": 11,
   "metadata": {},
   "outputs": [
    {
     "data": {
      "text/html": [
       "<div>\n",
       "<style scoped>\n",
       "    .dataframe tbody tr th:only-of-type {\n",
       "        vertical-align: middle;\n",
       "    }\n",
       "\n",
       "    .dataframe tbody tr th {\n",
       "        vertical-align: top;\n",
       "    }\n",
       "\n",
       "    .dataframe thead th {\n",
       "        text-align: right;\n",
       "    }\n",
       "</style>\n",
       "<table border=\"1\" class=\"dataframe\">\n",
       "  <thead>\n",
       "    <tr style=\"text-align: right;\">\n",
       "      <th></th>\n",
       "      <th>x1</th>\n",
       "      <th>y1</th>\n",
       "      <th>x2</th>\n",
       "      <th>y2</th>\n",
       "      <th>mid_y</th>\n",
       "      <th>mid_y_rolling_mean</th>\n",
       "    </tr>\n",
       "  </thead>\n",
       "  <tbody>\n",
       "    <tr>\n",
       "      <th>0</th>\n",
       "      <td>627.385620</td>\n",
       "      <td>786.011902</td>\n",
       "      <td>651.426453</td>\n",
       "      <td>806.346863</td>\n",
       "      <td>796.179382</td>\n",
       "      <td>796.179382</td>\n",
       "    </tr>\n",
       "    <tr>\n",
       "      <th>1</th>\n",
       "      <td>627.385620</td>\n",
       "      <td>786.011902</td>\n",
       "      <td>651.426453</td>\n",
       "      <td>806.346863</td>\n",
       "      <td>796.179382</td>\n",
       "      <td>796.179382</td>\n",
       "    </tr>\n",
       "    <tr>\n",
       "      <th>2</th>\n",
       "      <td>875.878967</td>\n",
       "      <td>631.594116</td>\n",
       "      <td>901.717712</td>\n",
       "      <td>665.930603</td>\n",
       "      <td>648.762360</td>\n",
       "      <td>747.040375</td>\n",
       "    </tr>\n",
       "    <tr>\n",
       "      <th>3</th>\n",
       "      <td>855.818115</td>\n",
       "      <td>644.566772</td>\n",
       "      <td>882.714478</td>\n",
       "      <td>668.839050</td>\n",
       "      <td>656.702911</td>\n",
       "      <td>724.456009</td>\n",
       "    </tr>\n",
       "    <tr>\n",
       "      <th>4</th>\n",
       "      <td>842.506409</td>\n",
       "      <td>658.651489</td>\n",
       "      <td>867.571716</td>\n",
       "      <td>680.808167</td>\n",
       "      <td>669.729828</td>\n",
       "      <td>713.510773</td>\n",
       "    </tr>\n",
       "    <tr>\n",
       "      <th>...</th>\n",
       "      <td>...</td>\n",
       "      <td>...</td>\n",
       "      <td>...</td>\n",
       "      <td>...</td>\n",
       "      <td>...</td>\n",
       "      <td>...</td>\n",
       "    </tr>\n",
       "    <tr>\n",
       "      <th>209</th>\n",
       "      <td>1177.746826</td>\n",
       "      <td>244.956207</td>\n",
       "      <td>1197.342773</td>\n",
       "      <td>267.447510</td>\n",
       "      <td>256.201859</td>\n",
       "      <td>287.133360</td>\n",
       "    </tr>\n",
       "    <tr>\n",
       "      <th>210</th>\n",
       "      <td>1176.911377</td>\n",
       "      <td>230.460114</td>\n",
       "      <td>1198.124512</td>\n",
       "      <td>248.470001</td>\n",
       "      <td>239.465057</td>\n",
       "      <td>271.222877</td>\n",
       "    </tr>\n",
       "    <tr>\n",
       "      <th>211</th>\n",
       "      <td>1176.785400</td>\n",
       "      <td>221.391586</td>\n",
       "      <td>1196.194580</td>\n",
       "      <td>243.401779</td>\n",
       "      <td>232.396683</td>\n",
       "      <td>257.118884</td>\n",
       "    </tr>\n",
       "    <tr>\n",
       "      <th>212</th>\n",
       "      <td>1173.944092</td>\n",
       "      <td>210.088394</td>\n",
       "      <td>1196.581787</td>\n",
       "      <td>229.248505</td>\n",
       "      <td>219.668449</td>\n",
       "      <td>243.689409</td>\n",
       "    </tr>\n",
       "    <tr>\n",
       "      <th>213</th>\n",
       "      <td>1173.944092</td>\n",
       "      <td>210.088394</td>\n",
       "      <td>1196.581787</td>\n",
       "      <td>229.248505</td>\n",
       "      <td>219.668449</td>\n",
       "      <td>233.480099</td>\n",
       "    </tr>\n",
       "  </tbody>\n",
       "</table>\n",
       "<p>214 rows × 6 columns</p>\n",
       "</div>"
      ],
      "text/plain": [
       "              x1          y1           x2          y2       mid_y  \\\n",
       "0     627.385620  786.011902   651.426453  806.346863  796.179382   \n",
       "1     627.385620  786.011902   651.426453  806.346863  796.179382   \n",
       "2     875.878967  631.594116   901.717712  665.930603  648.762360   \n",
       "3     855.818115  644.566772   882.714478  668.839050  656.702911   \n",
       "4     842.506409  658.651489   867.571716  680.808167  669.729828   \n",
       "..           ...         ...          ...         ...         ...   \n",
       "209  1177.746826  244.956207  1197.342773  267.447510  256.201859   \n",
       "210  1176.911377  230.460114  1198.124512  248.470001  239.465057   \n",
       "211  1176.785400  221.391586  1196.194580  243.401779  232.396683   \n",
       "212  1173.944092  210.088394  1196.581787  229.248505  219.668449   \n",
       "213  1173.944092  210.088394  1196.581787  229.248505  219.668449   \n",
       "\n",
       "     mid_y_rolling_mean  \n",
       "0            796.179382  \n",
       "1            796.179382  \n",
       "2            747.040375  \n",
       "3            724.456009  \n",
       "4            713.510773  \n",
       "..                  ...  \n",
       "209          287.133360  \n",
       "210          271.222877  \n",
       "211          257.118884  \n",
       "212          243.689409  \n",
       "213          233.480099  \n",
       "\n",
       "[214 rows x 6 columns]"
      ]
     },
     "execution_count": 11,
     "metadata": {},
     "output_type": "execute_result"
    }
   ],
   "source": [
    "#dataframe to plot out\n",
    "df_ball_positions"
   ]
  },
  {
   "cell_type": "code",
   "execution_count": 8,
   "metadata": {},
   "outputs": [],
   "source": [
    "df_ball_positions['mid_y'] = (df_ball_positions['y1'] + df_ball_positions['y2'])/2\n",
    "df_ball_positions['mid_y_rolling_mean'] = df_ball_positions['mid_y'].rolling(window=5, min_periods=1, center=False).mean()"
   ]
  },
  {
   "cell_type": "code",
   "execution_count": 9,
   "metadata": {},
   "outputs": [
    {
     "data": {
      "text/plain": [
       "[<matplotlib.lines.Line2D at 0x1447ee7eb50>]"
      ]
     },
     "execution_count": 9,
     "metadata": {},
     "output_type": "execute_result"
    },
    {
     "data": {
      "image/png": "[encoded data removed]",
      "text/plain": [
       "<Figure size 640x480 with 1 Axes>"
      ]
     },
     "metadata": {},
     "output_type": "display_data"
    }
   ],
   "source": [
    "# plot mid_y_rolling_mean\n",
    "plt.plot(df_ball_positions['mid_y_rolling_mean'])"
   ]
  },
  {
   "cell_type": "code",
   "execution_count": 12,
   "metadata": {},
   "outputs": [],
   "source": [
    "df_ball_positions['delta_y'] = df_ball_positions['mid_y_rolling_mean'].diff()"
   ]
  },
  {
   "cell_type": "code",
   "execution_count": 13,
   "metadata": {},
   "outputs": [
    {
     "data": {
      "text/plain": [
       "[<matplotlib.lines.Line2D at 0x1447f67e750>]"
      ]
     },
     "execution_count": 13,
     "metadata": {},
     "output_type": "execute_result"
    },
    {
     "data": {
      "image/png": "[encoded data removed]",
      "text/plain": [
       "<Figure size 640x480 with 1 Axes>"
      ]
     },
     "metadata": {},
     "output_type": "display_data"
    }
   ],
   "source": [
    "# plot mid_y_rolling_mean\n",
    "plt.plot(df_ball_positions['delta_y'])"
   ]
  },
  {
   "cell_type": "code",
   "execution_count": 14,
   "metadata": {},
   "outputs": [],
   "source": [
    "df_ball_positions['ball_hit']=0"
   ]
  },
  {
   "cell_type": "code",
   "execution_count": 15,
   "metadata": {},
   "outputs": [
    {
     "name": "stderr",
     "output_type": "stream",
     "text": [
      "C:\\Users\\cutle\\AppData\\Local\\Temp\\ipykernel_22584\\3752280353.py:18: SettingWithCopyWarning: \n",
      "A value is trying to be set on a copy of a slice from a DataFrame\n",
      "\n",
      "See the caveats in the documentation: https://pandas.pydata.org/pandas-docs/stable/user_guide/indexing.html#returning-a-view-versus-a-copy\n",
      "  df_ball_positions['ball_hit'].iloc[i] = 1\n"
     ]
    }
   ],
   "source": [
    "minimum_change_frames_for_hit = 25\n",
    "for i in range(1,len(df_ball_positions)- int(minimum_change_frames_for_hit*1.2) ):\n",
    "    negative_position_change = df_ball_positions['delta_y'].iloc[i] >0 and df_ball_positions['delta_y'].iloc[i+1] <0\n",
    "    positive_position_change = df_ball_positions['delta_y'].iloc[i] <0 and df_ball_positions['delta_y'].iloc[i+1] >0\n",
    "\n",
    "    if negative_position_change or positive_position_change:\n",
    "        change_count = 0 \n",
    "        for change_frame in range(i+1, i+int(minimum_change_frames_for_hit*1.2)+1):\n",
    "            negative_position_change_following_frame = df_ball_positions['delta_y'].iloc[i] >0 and df_ball_positions['delta_y'].iloc[change_frame] <0\n",
    "            positive_position_change_following_frame = df_ball_positions['delta_y'].iloc[i] <0 and df_ball_positions['delta_y'].iloc[change_frame] >0\n",
    "\n",
    "            if negative_position_change and negative_position_change_following_frame:\n",
    "                change_count+=1\n",
    "            elif positive_position_change and positive_position_change_following_frame:\n",
    "                change_count+=1\n",
    "    \n",
    "        if change_count>minimum_change_frames_for_hit-1:\n",
    "            df_ball_positions['ball_hit'].iloc[i] = 1\n",
    "\n",
    "frame_nums_with_ball_hits = df_ball_positions[df_ball_positions['ball_hit']==1].index.tolist()"
   ]
  },
  {
   "cell_type": "code",
   "execution_count": 16,
   "metadata": {},
   "outputs": [
    {
     "data": {
      "text/html": [
       "<div>\n",
       "<style scoped>\n",
       "    .dataframe tbody tr th:only-of-type {\n",
       "        vertical-align: middle;\n",
       "    }\n",
       "\n",
       "    .dataframe tbody tr th {\n",
       "        vertical-align: top;\n",
       "    }\n",
       "\n",
       "    .dataframe thead th {\n",
       "        text-align: right;\n",
       "    }\n",
       "</style>\n",
       "<table border=\"1\" class=\"dataframe\">\n",
       "  <thead>\n",
       "    <tr style=\"text-align: right;\">\n",
       "      <th></th>\n",
       "      <th>x1</th>\n",
       "      <th>y1</th>\n",
       "      <th>x2</th>\n",
       "      <th>y2</th>\n",
       "      <th>mid_y</th>\n",
       "      <th>mid_y_rolling_mean</th>\n",
       "      <th>delta_y</th>\n",
       "      <th>ball_hit</th>\n",
       "    </tr>\n",
       "  </thead>\n",
       "  <tbody>\n",
       "    <tr>\n",
       "      <th>11</th>\n",
       "      <td>771.868042</td>\n",
       "      <td>716.367004</td>\n",
       "      <td>800.447876</td>\n",
       "      <td>740.437134</td>\n",
       "      <td>728.402069</td>\n",
       "      <td>736.499896</td>\n",
       "      <td>6.523682</td>\n",
       "      <td>1</td>\n",
       "    </tr>\n",
       "    <tr>\n",
       "      <th>58</th>\n",
       "      <td>918.699646</td>\n",
       "      <td>228.105743</td>\n",
       "      <td>944.758118</td>\n",
       "      <td>254.762421</td>\n",
       "      <td>241.434082</td>\n",
       "      <td>240.247572</td>\n",
       "      <td>-3.012689</td>\n",
       "      <td>1</td>\n",
       "    </tr>\n",
       "    <tr>\n",
       "      <th>95</th>\n",
       "      <td>616.294556</td>\n",
       "      <td>775.242188</td>\n",
       "      <td>638.906799</td>\n",
       "      <td>801.433960</td>\n",
       "      <td>788.338074</td>\n",
       "      <td>779.557629</td>\n",
       "      <td>6.985822</td>\n",
       "      <td>1</td>\n",
       "    </tr>\n",
       "    <tr>\n",
       "      <th>131</th>\n",
       "      <td>707.403103</td>\n",
       "      <td>222.718238</td>\n",
       "      <td>728.104072</td>\n",
       "      <td>246.793372</td>\n",
       "      <td>234.755805</td>\n",
       "      <td>233.581485</td>\n",
       "      <td>-0.688368</td>\n",
       "      <td>1</td>\n",
       "    </tr>\n",
       "    <tr>\n",
       "      <th>172</th>\n",
       "      <td>1208.958550</td>\n",
       "      <td>792.751126</td>\n",
       "      <td>1233.954251</td>\n",
       "      <td>815.514777</td>\n",
       "      <td>804.132952</td>\n",
       "      <td>837.180322</td>\n",
       "      <td>9.563694</td>\n",
       "      <td>1</td>\n",
       "    </tr>\n",
       "    <tr>\n",
       "      <th>182</th>\n",
       "      <td>1289.394043</td>\n",
       "      <td>737.018921</td>\n",
       "      <td>1314.278809</td>\n",
       "      <td>760.457153</td>\n",
       "      <td>748.738037</td>\n",
       "      <td>735.702167</td>\n",
       "      <td>5.444702</td>\n",
       "      <td>1</td>\n",
       "    </tr>\n",
       "  </tbody>\n",
       "</table>\n",
       "</div>"
      ],
      "text/plain": [
       "              x1          y1           x2          y2       mid_y  \\\n",
       "11    771.868042  716.367004   800.447876  740.437134  728.402069   \n",
       "58    918.699646  228.105743   944.758118  254.762421  241.434082   \n",
       "95    616.294556  775.242188   638.906799  801.433960  788.338074   \n",
       "131   707.403103  222.718238   728.104072  246.793372  234.755805   \n",
       "172  1208.958550  792.751126  1233.954251  815.514777  804.132952   \n",
       "182  1289.394043  737.018921  1314.278809  760.457153  748.738037   \n",
       "\n",
       "     mid_y_rolling_mean   delta_y  ball_hit  \n",
       "11           736.499896  6.523682         1  \n",
       "58           240.247572 -3.012689         1  \n",
       "95           779.557629  6.985822         1  \n",
       "131          233.581485 -0.688368         1  \n",
       "172          837.180322  9.563694         1  \n",
       "182          735.702167  5.444702         1  "
      ]
     },
     "execution_count": 16,
     "metadata": {},
     "output_type": "execute_result"
    }
   ],
   "source": [
    "df_ball_positions[df_ball_positions['ball_hit']==1]"
   ]
  },
  {
   "cell_type": "code",
   "execution_count": 17,
   "metadata": {},
   "outputs": [
    {
     "data": {
      "text/plain": [
       "[11, 58, 95, 131, 172, 182]"
      ]
     },
     "execution_count": 17,
     "metadata": {},
     "output_type": "execute_result"
    }
   ],
   "source": [
    "frame_nums_with_ball_hits = df_ball_positions[df_ball_positions['ball_hit']==1].index.tolist()"
   ]
  }
 ],
 "metadata": {
  "kernelspec": {
   "display_name": "The_Matrix",
   "language": "python",
   "name": "python3"
  },
  "language_info": {
   "codemirror_mode": {
    "name": "ipython",
    "version": 3
   },
   "file_extension": ".py",
   "mimetype": "text/x-python",
   "name": "python",
   "nbconvert_exporter": "python",
   "pygments_lexer": "ipython3",
   "version": "3.11.5"
  }
 },
 "nbformat": 4,
 "nbformat_minor": 2
}
